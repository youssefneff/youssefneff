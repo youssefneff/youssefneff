{
 "cells": [
  {
   "cell_type": "code",
   "execution_count": 8,
   "id": "ccc45f35",
   "metadata": {},
   "outputs": [
    {
     "name": "stdout",
     "output_type": "stream",
     "text": [
      "tuple: (1, 2, 3)\n"
     ]
    }
   ],
   "source": [
    "#1\n",
    "class Point3D(object):\n",
    "    def __init__(self, x, y, z):\n",
    "        self.x = x\n",
    "        self.y = y\n",
    "        self.z = z\n",
    "    def affiche(self):\n",
    "        return (self.x, self.y, self.z)\n",
    "        \n",
    "my_point = Point3D(1,2,3)\n",
    "t=my_point.affiche()\n",
    "print(\"tuple:\",t)"
   ]
  },
  {
   "cell_type": "code",
   "execution_count": 33,
   "id": "470d4cad",
   "metadata": {},
   "outputs": [
    {
     "name": "stdout",
     "output_type": "stream",
     "text": [
      "aire: 12\n",
      "périmètre: 14\n"
     ]
    }
   ],
   "source": [
    "#2\n",
    "class Rectangle(object):\n",
    "    def __init__(self,length,width):\n",
    "        self.length=length\n",
    "        self.width=width\n",
    "    def aire(self):\n",
    "        a=(self.length*self.width)\n",
    "        return a\n",
    "    def périmètre(self):\n",
    "        p=(2*(self.length+self.width))\n",
    "        return p\n",
    "my_rectangle = Rectangle(4,3)\n",
    "ta=my_rectangle.aire()\n",
    "print (\"aire:\",ta)\n",
    "tp=my_rectangle.périmètre()\n",
    "print (\"périmètre:\",tp)"
   ]
  },
  {
   "cell_type": "code",
   "execution_count": 1,
   "id": "2b1d544a",
   "metadata": {},
   "outputs": [
    {
     "name": "stdout",
     "output_type": "stream",
     "text": [
      "rayon du cercle: 4\n",
      "x du cercle: 2\n",
      "y du cercle: 5\n",
      "x de A: 6\n",
      "y de A: 5\n",
      "area is: 50.26548245743669\n",
      "perimeter is:  25.132741228718345\n"
     ]
    },
    {
     "data": {
      "text/plain": [
       "'A est sur le Cercle'"
      ]
     },
     "execution_count": 1,
     "metadata": {},
     "output_type": "execute_result"
    }
   ],
   "source": [
    "#3\n",
    "r=int(input(\"rayon du cercle: \"))\n",
    "x=int(input(\"x du cercle: \"))\n",
    "y= int(input(\"y du cercle: \"))\n",
    "O=(x,y)\n",
    "x_A= int(input(\"x de A: \"))\n",
    "y_A= int(input(\"y de A: \"))\n",
    "A= (x_A,y_A)\n",
    "from math import pi\n",
    "from math import sqrt\n",
    "class Circle():\n",
    "    def __init__(self, O, r):\n",
    "        self.center= O\n",
    "        self.radius= r\n",
    "    def area(self):\n",
    "        return(pi*self.radius**2)\n",
    "    def perimeter(self):\n",
    "        return(2*pi*self.radius)\n",
    "    def isInside(self,A):\n",
    "        Q= sqrt((A[0]-self.center[0])**2+(A[1]-self.center[1])**2)\n",
    "        if Q==r:\n",
    "            return(\"A est sur le Cercle\")\n",
    "        elif Q<r:\n",
    "            return(\"A est dans le Cercle\")\n",
    "        else:\n",
    "            return(\"A est à l'extérieur du Cercle\")\n",
    "          \n",
    "mon_cercle = Circle(O, r)\n",
    "a=mon_cercle.area()\n",
    "pe=mon_cercle.perimeter()\n",
    "print(\"area is:\", a)\n",
    "print(\"perimeter is: \", pe)\n",
    "mon_cercle.isInside(A)"
   ]
  },
  {
   "cell_type": "code",
   "execution_count": 8,
   "id": "e3330d4f",
   "metadata": {},
   "outputs": [
    {
     "name": "stdout",
     "output_type": "stream",
     "text": [
      "valeur initiale: 4\n",
      "gain: 8\n",
      "perte: 2\n",
      "12\n",
      "10\n"
     ]
    }
   ],
   "source": [
    "#4\n",
    "class Bank:\n",
    "    def __init__(self, balance):\n",
    "        self.balance=balance\n",
    "    def deposit(self, gain):\n",
    "        self.balance = self.balance+gain\n",
    "        return self.balance\n",
    "    def withdraw (self,perte):\n",
    "        self.balance=self.balance-perte\n",
    "        return self.balance\n",
    "x=int(input(\"valeur initiale: \"))\n",
    "balance_=Bank(x)\n",
    "y=int(input(\"gain: \"))\n",
    "z=int(input(\"perte: \"))      \n",
    "print(balance_.deposit(y))\n",
    "print(balance_.withdraw(z))"
   ]
  },
  {
   "cell_type": "code",
   "execution_count": null,
   "id": "6130b761",
   "metadata": {},
   "outputs": [],
   "source": []
  }
 ],
 "metadata": {
  "kernelspec": {
   "display_name": "Python 3",
   "language": "python",
   "name": "python3"
  },
  "language_info": {
   "codemirror_mode": {
    "name": "ipython",
    "version": 3
   },
   "file_extension": ".py",
   "mimetype": "text/x-python",
   "name": "python",
   "nbconvert_exporter": "python",
   "pygments_lexer": "ipython3",
   "version": "3.8.8"
  }
 },
 "nbformat": 4,
 "nbformat_minor": 5
}
